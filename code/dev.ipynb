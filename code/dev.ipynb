{
 "cells": [
  {
   "cell_type": "code",
   "execution_count": 3,
   "metadata": {},
   "outputs": [],
   "source": [
    "import dask.array as da\n",
    "import dask\n",
    "import zarr\n",
    "import cv2\n",
    "import numpy as np\n",
    "import matplotlib"
   ]
  },
  {
   "cell_type": "code",
   "execution_count": 4,
   "metadata": {},
   "outputs": [],
   "source": [
    "from MotionEnergyAnalyzer import MotionEnergyAnalyzer\n",
    "import utils"
   ]
  },
  {
   "cell_type": "code",
   "execution_count": 5,
   "metadata": {},
   "outputs": [],
   "source": [
    "# notebook dev\n",
    "%load_ext autoreload\n",
    "%autoreload 2\n",
    "%matplotlib inline"
   ]
  },
  {
   "cell_type": "code",
   "execution_count": 9,
   "metadata": {},
   "outputs": [],
   "source": [
    "\n",
    "zarr_paths = utils.find_zarr_paths(subselect='Face')"
   ]
  },
  {
   "cell_type": "code",
   "execution_count": 10,
   "metadata": {},
   "outputs": [
    {
     "data": {
      "text/plain": [
       "[]"
      ]
     },
     "execution_count": 10,
     "metadata": {},
     "output_type": "execute_result"
    }
   ],
   "source": [
    "zarr_paths"
   ]
  },
  {
   "cell_type": "code",
   "execution_count": 7,
   "metadata": {},
   "outputs": [
    {
     "ename": "IndexError",
     "evalue": "list index out of range",
     "output_type": "error",
     "traceback": [
      "\u001b[0;31m---------------------------------------------------------------------------\u001b[0m",
      "\u001b[0;31mIndexError\u001b[0m                                Traceback (most recent call last)",
      "\u001b[0;32m<ipython-input-7-207e5733fd08>\u001b[0m in \u001b[0;36m<module>\u001b[0;34m\u001b[0m\n\u001b[0;32m----> 1\u001b[0;31m \u001b[0manalyser\u001b[0m \u001b[0;34m=\u001b[0m \u001b[0mMotionEnergyAnalyzer\u001b[0m\u001b[0;34m(\u001b[0m\u001b[0mzarr_paths\u001b[0m\u001b[0;34m[\u001b[0m\u001b[0;36m0\u001b[0m\u001b[0;34m]\u001b[0m\u001b[0;34m)\u001b[0m\u001b[0;34m\u001b[0m\u001b[0;34m\u001b[0m\u001b[0m\n\u001b[0m",
      "\u001b[0;31mIndexError\u001b[0m: list index out of range"
     ]
    }
   ],
   "source": [
    "analyser = MotionEnergyAnalyzer(zarr_paths[0])"
   ]
  },
  {
   "cell_type": "code",
   "execution_count": 7,
   "metadata": {},
   "outputs": [
    {
     "name": "stdout",
     "output_type": "stream",
     "text": [
      "<class 'dask.array.core.Array'>\n",
      "<class 'dask.array.core.Array'>\n",
      "Video saved to '/root/capsule/results/721291_Face_21707174-ce69-4ce2-b7b5-9e0ce26bbc59/motion_energy_clip.avi'\n",
      "/root/capsule/results/721291_Face_21707174-ce69-4ce2-b7b5-9e0ce26bbc59/motion_energy_frames.zarr\n",
      "Saved motion energy frames to /root/capsule/results/721291_Face_21707174-ce69-4ce2-b7b5-9e0ce26bbc59/motion_energy_frames.zarr\n"
     ]
    },
    {
     "data": {
      "text/plain": [
       "<MotionEnergyAnalyzer.MotionEnergyAnalyzer at 0x7f146cd4d640>"
      ]
     },
     "execution_count": 7,
     "metadata": {},
     "output_type": "execute_result"
    }
   ],
   "source": [
    "analyser.analyze()"
   ]
  },
  {
   "cell_type": "code",
   "execution_count": 10,
   "metadata": {},
   "outputs": [
    {
     "data": {
      "text/plain": [
       "272033"
      ]
     },
     "execution_count": 10,
     "metadata": {},
     "output_type": "execute_result"
    }
   ],
   "source": [
    "len(analyser.motion_energy_sum)"
   ]
  },
  {
   "cell_type": "code",
   "execution_count": 12,
   "metadata": {},
   "outputs": [
    {
     "data": {
      "text/plain": [
       "271980"
      ]
     },
     "execution_count": 12,
     "metadata": {},
     "output_type": "execute_result"
    }
   ],
   "source": [
    "len(analyser.loaded_metadata.get('timestamps'))"
   ]
  },
  {
   "cell_type": "code",
   "execution_count": null,
   "metadata": {},
   "outputs": [],
   "source": [
    "\n",
    "# Load the grayscale frames from the Zarr file\n",
    "zarr_store_frames = zarr.DirectoryStore('video_frames_grayscale.zarr')\n",
    "grayscale_frames = da.from_zarr(zarr_store_frames, component='frames')\n",
    "\n",
    "# Compute motion energy as the absolute difference between consecutive frames\n",
    "# This will be a Dask array operation that only loads and computes chunks as needed\n",
    "motion_energy = da.abs(grayscale_frames[1:] - grayscale_frames[:-1])\n",
    "\n",
    "# Define the chunking for efficient memory usage; rechunk if necessary\n",
    "motion_energy = motion_energy.rechunk((100, 658, 492))  # Adjust based on available memory\n",
    "\n",
    "# Save motion energy as a new Zarr file\n",
    "zarr_store_motion = zarr.DirectoryStore('motion_energy_grayscale.zarr')\n",
    "motion_energy.to_zarr(zarr_store_motion, overwrite=True)\n",
    "\n",
    "# Compute the sum of motion energy for each frame and save as a NumPy array\n",
    "# This sums across height and width (658, 492) to get the sum per frame (along the time dimension)\n",
    "motion_energy_sum = motion_energy.sum(axis=(1, 2)).compute()\n",
    "\n",
    "# Save the result as a NumPy array\n",
    "np.save('motion_energy_sum.npy', motion_energy_sum)"
   ]
  }
 ],
 "metadata": {
  "kernelspec": {
   "display_name": "base",
   "language": "python",
   "name": "python3"
  },
  "language_info": {
   "codemirror_mode": {
    "name": "ipython",
    "version": 3
   },
   "file_extension": ".py",
   "mimetype": "text/x-python",
   "name": "python",
   "nbconvert_exporter": "python",
   "pygments_lexer": "ipython3",
   "version": "3.8.5 (default, Sep  4 2020, 07:30:14) \n[GCC 7.3.0]"
  },
  "orig_nbformat": 4,
  "vscode": {
   "interpreter": {
    "hash": "d4d1e4263499bec80672ea0156c357c1ee493ec2b1c70f0acce89fc37c4a6abe"
   }
  }
 },
 "nbformat": 4,
 "nbformat_minor": 2
}
