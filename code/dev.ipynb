{
 "cells": [
  {
   "cell_type": "code",
   "execution_count": 2,
   "metadata": {},
   "outputs": [],
   "source": [
    "import dask.array as da\n",
    "import dask\n",
    "import zarr\n",
    "import cv2\n",
    "import numpy as np\n",
    "import matplotlib"
   ]
  },
  {
   "cell_type": "code",
   "execution_count": 1,
   "metadata": {},
   "outputs": [
    {
     "name": "stdout",
     "output_type": "stream",
     "text": [
      "Collecting matplotlib\n",
      "  Downloading matplotlib-3.7.5-cp38-cp38-manylinux_2_12_x86_64.manylinux2010_x86_64.whl (9.2 MB)\n",
      "\u001b[K     |████████████████████████████████| 9.2 MB 6.7 MB/s eta 0:00:01\n",
      "\u001b[?25hCollecting contourpy>=1.0.1\n",
      "  Downloading contourpy-1.1.1-cp38-cp38-manylinux_2_17_x86_64.manylinux2014_x86_64.whl (301 kB)\n",
      "\u001b[K     |████████████████████████████████| 301 kB 103.2 MB/s eta 0:00:01\n",
      "\u001b[?25hRequirement already satisfied: pyparsing>=2.3.1 in /opt/conda/lib/python3.8/site-packages (from matplotlib) (2.4.7)\n",
      "Collecting kiwisolver>=1.0.1\n",
      "  Downloading kiwisolver-1.4.7-cp38-cp38-manylinux_2_5_x86_64.manylinux1_x86_64.whl (1.2 MB)\n",
      "\u001b[K     |████████████████████████████████| 1.2 MB 90.5 MB/s eta 0:00:01\n",
      "\u001b[?25hRequirement already satisfied: packaging>=20.0 in /opt/conda/lib/python3.8/site-packages (from matplotlib) (20.9)\n",
      "Collecting fonttools>=4.22.0\n",
      "  Downloading fonttools-4.54.1-cp38-cp38-manylinux_2_17_x86_64.manylinux2014_x86_64.whl (4.7 MB)\n",
      "\u001b[K     |████████████████████████████████| 4.7 MB 81.9 MB/s eta 0:00:01\n",
      "\u001b[?25hRequirement already satisfied: python-dateutil>=2.7 in /opt/conda/lib/python3.8/site-packages (from matplotlib) (2.8.1)\n",
      "Collecting importlib-resources>=3.2.0; python_version < \"3.10\"\n",
      "  Downloading importlib_resources-6.4.5-py3-none-any.whl (36 kB)\n",
      "Collecting pillow>=6.2.0\n",
      "  Downloading pillow-10.4.0-cp38-cp38-manylinux_2_17_x86_64.manylinux2014_x86_64.whl (4.4 MB)\n",
      "\u001b[K     |████████████████████████████████| 4.4 MB 77.7 MB/s eta 0:00:01\n",
      "\u001b[?25hCollecting cycler>=0.10\n",
      "  Downloading cycler-0.12.1-py3-none-any.whl (8.3 kB)\n",
      "Requirement already satisfied: numpy<2,>=1.20 in /opt/conda/lib/python3.8/site-packages (from matplotlib) (1.24.4)\n",
      "Requirement already satisfied: six>=1.5 in /opt/conda/lib/python3.8/site-packages (from python-dateutil>=2.7->matplotlib) (1.15.0)\n",
      "Requirement already satisfied: zipp>=3.1.0; python_version < \"3.10\" in /opt/conda/lib/python3.8/site-packages (from importlib-resources>=3.2.0; python_version < \"3.10\"->matplotlib) (3.20.2)\n",
      "Installing collected packages: contourpy, kiwisolver, fonttools, importlib-resources, pillow, cycler, matplotlib\n",
      "Successfully installed contourpy-1.1.1 cycler-0.12.1 fonttools-4.54.1 importlib-resources-6.4.5 kiwisolver-1.4.7 matplotlib-3.7.5 pillow-10.4.0\n"
     ]
    }
   ],
   "source": [
    "\n",
    "!pip install matplotlib"
   ]
  },
  {
   "cell_type": "code",
   "execution_count": 3,
   "metadata": {},
   "outputs": [],
   "source": [
    "from MotionEnergyAnalyzer import MotionEnergyAnalyzer\n",
    "import utils"
   ]
  },
  {
   "cell_type": "code",
   "execution_count": 4,
   "metadata": {},
   "outputs": [],
   "source": [
    "# notebook dev\n",
    "%load_ext autoreload\n",
    "%autoreload 2\n",
    "%matplotlib inline"
   ]
  },
  {
   "cell_type": "code",
   "execution_count": 5,
   "metadata": {},
   "outputs": [
    {
     "name": "stderr",
     "output_type": "stream",
     "text": [
      "Searching for Zarr directories in /root/capsule/data: 100%|██████████| 3/3 [00:00<00:00, 43842.90it/s]\n",
      "Searching for Zarr directories in /root/capsule/data/721291_Face_21707174-ce69-4ce2-b7b5-9e0ce26bbc59: 100%|██████████| 1/1 [00:00<00:00, 3823.43it/s]\n",
      "Searching for Zarr directories in /root/capsule/data/721291_Face_21707174-ce69-4ce2-b7b5-9e0ce26bbc59/processed_frames_zarr: 100%|██████████| 1/1 [00:00<00:00, 25115.59it/s]\n"
     ]
    },
    {
     "name": "stdout",
     "output_type": "stream",
     "text": [
      "Found Zarr directory: /root/capsule/data/721291_Face_21707174-ce69-4ce2-b7b5-9e0ce26bbc59/processed_frames_zarr\n"
     ]
    },
    {
     "name": "stderr",
     "output_type": "stream",
     "text": [
      "Searching for Zarr directories in /root/capsule/data/721291_Face_21707174-ce69-4ce2-b7b5-9e0ce26bbc59/processed_frames_zarr/data: 0it [00:00, ?it/s]\n",
      "Searching for Zarr directories in /root/capsule/data/721291_Face_d33cb1d6-b65b-4d2f-8fbd-e93136fd44ae: 100%|██████████| 1/1 [00:00<00:00, 14266.34it/s]\n",
      "Searching for Zarr directories in /root/capsule/data/721291_Face_d33cb1d6-b65b-4d2f-8fbd-e93136fd44ae/processed_frames_zarr: 100%|██████████| 1/1 [00:00<00:00, 25266.89it/s]\n"
     ]
    },
    {
     "name": "stdout",
     "output_type": "stream",
     "text": [
      "Found Zarr directory: /root/capsule/data/721291_Face_d33cb1d6-b65b-4d2f-8fbd-e93136fd44ae/processed_frames_zarr\n"
     ]
    },
    {
     "name": "stderr",
     "output_type": "stream",
     "text": [
      "Searching for Zarr directories in /root/capsule/data/721291_Face_d33cb1d6-b65b-4d2f-8fbd-e93136fd44ae/processed_frames_zarr/data: 0it [00:00, ?it/s]\n",
      "Searching for Zarr directories in /root/capsule/data/721291_Face_ff11a262-7cbd-4576-8548-1558d6bda9d1: 100%|██████████| 1/1 [00:00<00:00, 9822.73it/s]\n",
      "Searching for Zarr directories in /root/capsule/data/721291_Face_ff11a262-7cbd-4576-8548-1558d6bda9d1/processed_frames_zarr: 100%|██████████| 1/1 [00:00<00:00, 13573.80it/s]\n"
     ]
    },
    {
     "name": "stdout",
     "output_type": "stream",
     "text": [
      "Found Zarr directory: /root/capsule/data/721291_Face_ff11a262-7cbd-4576-8548-1558d6bda9d1/processed_frames_zarr\n"
     ]
    },
    {
     "name": "stderr",
     "output_type": "stream",
     "text": [
      "Searching for Zarr directories in /root/capsule/data/721291_Face_ff11a262-7cbd-4576-8548-1558d6bda9d1/processed_frames_zarr/data: 0it [00:00, ?it/s]\n"
     ]
    }
   ],
   "source": [
    "\n",
    "zarr_paths = utils.find_zarr_paths()"
   ]
  },
  {
   "cell_type": "code",
   "execution_count": 6,
   "metadata": {},
   "outputs": [],
   "source": [
    "analyser = MotionEnergyAnalyzer(zarr_paths[0])"
   ]
  },
  {
   "cell_type": "code",
   "execution_count": 7,
   "metadata": {},
   "outputs": [
    {
     "name": "stdout",
     "output_type": "stream",
     "text": [
      "<class 'dask.array.core.Array'>\n",
      "<class 'dask.array.core.Array'>\n",
      "Video saved to '/root/capsule/results/721291_Face_21707174-ce69-4ce2-b7b5-9e0ce26bbc59/motion_energy_clip.avi'\n",
      "/root/capsule/results/721291_Face_21707174-ce69-4ce2-b7b5-9e0ce26bbc59/motion_energy_frames.zarr\n",
      "Saved motion energy frames to /root/capsule/results/721291_Face_21707174-ce69-4ce2-b7b5-9e0ce26bbc59/motion_energy_frames.zarr\n"
     ]
    },
    {
     "data": {
      "text/plain": [
       "<MotionEnergyAnalyzer.MotionEnergyAnalyzer at 0x7f146cd4d640>"
      ]
     },
     "execution_count": 7,
     "metadata": {},
     "output_type": "execute_result"
    }
   ],
   "source": [
    "analyser.analyze()"
   ]
  },
  {
   "cell_type": "code",
   "execution_count": 10,
   "metadata": {},
   "outputs": [
    {
     "data": {
      "text/plain": [
       "272033"
      ]
     },
     "execution_count": 10,
     "metadata": {},
     "output_type": "execute_result"
    }
   ],
   "source": [
    "len(analyser.motion_energy_sum)"
   ]
  },
  {
   "cell_type": "code",
   "execution_count": 12,
   "metadata": {},
   "outputs": [
    {
     "data": {
      "text/plain": [
       "271980"
      ]
     },
     "execution_count": 12,
     "metadata": {},
     "output_type": "execute_result"
    }
   ],
   "source": [
    "len(analyser.loaded_metadata.get('timestamps'))"
   ]
  },
  {
   "cell_type": "code",
   "execution_count": null,
   "metadata": {},
   "outputs": [],
   "source": [
    "\n",
    "# Load the grayscale frames from the Zarr file\n",
    "zarr_store_frames = zarr.DirectoryStore('video_frames_grayscale.zarr')\n",
    "grayscale_frames = da.from_zarr(zarr_store_frames, component='frames')\n",
    "\n",
    "# Compute motion energy as the absolute difference between consecutive frames\n",
    "# This will be a Dask array operation that only loads and computes chunks as needed\n",
    "motion_energy = da.abs(grayscale_frames[1:] - grayscale_frames[:-1])\n",
    "\n",
    "# Define the chunking for efficient memory usage; rechunk if necessary\n",
    "motion_energy = motion_energy.rechunk((100, 658, 492))  # Adjust based on available memory\n",
    "\n",
    "# Save motion energy as a new Zarr file\n",
    "zarr_store_motion = zarr.DirectoryStore('motion_energy_grayscale.zarr')\n",
    "motion_energy.to_zarr(zarr_store_motion, overwrite=True)\n",
    "\n",
    "# Compute the sum of motion energy for each frame and save as a NumPy array\n",
    "# This sums across height and width (658, 492) to get the sum per frame (along the time dimension)\n",
    "motion_energy_sum = motion_energy.sum(axis=(1, 2)).compute()\n",
    "\n",
    "# Save the result as a NumPy array\n",
    "np.save('motion_energy_sum.npy', motion_energy_sum)"
   ]
  }
 ],
 "metadata": {
  "kernelspec": {
   "display_name": "base",
   "language": "python",
   "name": "python3"
  },
  "language_info": {
   "codemirror_mode": {
    "name": "ipython",
    "version": 3
   },
   "file_extension": ".py",
   "mimetype": "text/x-python",
   "name": "python",
   "nbconvert_exporter": "python",
   "pygments_lexer": "ipython3",
   "version": "3.8.5 (default, Sep  4 2020, 07:30:14) \n[GCC 7.3.0]"
  },
  "orig_nbformat": 4,
  "vscode": {
   "interpreter": {
    "hash": "d4d1e4263499bec80672ea0156c357c1ee493ec2b1c70f0acce89fc37c4a6abe"
   }
  }
 },
 "nbformat": 4,
 "nbformat_minor": 2
}
